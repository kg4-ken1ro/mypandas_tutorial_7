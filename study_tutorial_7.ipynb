{
  "nbformat": 4,
  "nbformat_minor": 0,
  "metadata": {
    "colab": {
      "provenance": [],
      "authorship_tag": "ABX9TyNSBHb72UwFdImPvzJvYBvy",
      "include_colab_link": true
    },
    "kernelspec": {
      "name": "python3",
      "display_name": "Python 3"
    },
    "language_info": {
      "name": "python"
    }
  },
  "cells": [
    {
      "cell_type": "markdown",
      "metadata": {
        "id": "view-in-github",
        "colab_type": "text"
      },
      "source": [
        "<a href=\"https://colab.research.google.com/github/kg4-ken1ro/mypandas_tutorial_7/blob/main/study_tutorial_7.ipynb\" target=\"_parent\"><img src=\"https://colab.research.google.com/assets/colab-badge.svg\" alt=\"Open In Colab\"/></a>"
      ]
    },
    {
      "cell_type": "code",
      "source": [
        "from google.colab import drive\n",
        "drive.mount('/content/drive')"
      ],
      "metadata": {
        "colab": {
          "base_uri": "https://localhost:8080/"
        },
        "id": "6yWubrmUXDfz",
        "outputId": "ff183bf9-8e4b-4d1d-c452-0599c300c030"
      },
      "execution_count": 1,
      "outputs": [
        {
          "output_type": "stream",
          "name": "stdout",
          "text": [
            "Mounted at /content/drive\n"
          ]
        }
      ]
    },
    {
      "cell_type": "code",
      "source": [
        "%matplotlib inline\n",
        "import warnings\n",
        "import numpy as np\n",
        "import pandas as pd\n",
        "import xgboost as xgb\n",
        "import lightgbm as lgb\n",
        "import matplotlib.pylab as plt\n",
        "\n",
        "from sklearn.metrics import accuracy_score\n",
        "from sklearn.model_selection import StratifiedKFold\n",
        "from sklearn.model_selection import ParameterGrid\n",
        "\n",
        "warnings.filterwarnings('ignore')"
      ],
      "metadata": {
        "id": "nhxI-1YWXm08"
      },
      "execution_count": 2,
      "outputs": []
    },
    {
      "cell_type": "code",
      "source": [
        "all_params = {\n",
        "    'max_depth': [3, 5, 7],\n",
        "    'learning_rate': [0.1],\n",
        "    'min_child_weight': [3, 5, 10],\n",
        "    'n_estimetors': [10000],\n",
        "    'colsample_bytree': [0.8, 0.9, 1.0],\n",
        "    'colsample_bylevel': [0.8, 0.9, 1.0],\n",
        "    'reg_alpha': [0, 0.1],\n",
        "    'random_state': [0],\n",
        "    'n_jobs': [1],\n",
        "}\n",
        "\n",
        "for params in ParameterGrid(all_params):\n",
        "    print(params)\n",
        "    break "
      ],
      "metadata": {
        "colab": {
          "base_uri": "https://localhost:8080/"
        },
        "id": "WrQ8T2w6YsII",
        "outputId": "2f605d0d-a01f-4fbd-aa43-4a776506e9ee"
      },
      "execution_count": 3,
      "outputs": [
        {
          "output_type": "stream",
          "name": "stdout",
          "text": [
            "{'colsample_bylevel': 0.8, 'colsample_bytree': 0.8, 'learning_rate': 0.1, 'max_depth': 3, 'min_child_weight': 3, 'n_estimetors': 10000, 'n_jobs': 1, 'random_state': 0, 'reg_alpha': 0}\n"
          ]
        }
      ]
    },
    {
      "cell_type": "code",
      "source": [
        "def preprocess_df(df):\n",
        "    # CabinはこのあとDropするので、コードから削除\n",
        "    df[\"Age\"] = df[\"Age\"].fillna(df[\"Age\"].mean())\n",
        "    df[\"Embarked\"] = df[\"Embarked\"].fillna(df[\"Embarked\"].mode())\n",
        "    df[\"FamilySize\"] = df[\"SibSp\"] + df[\"Parch\"] + 1\n",
        "   \n",
        "    # 列の削除\n",
        "    df.drop([\"Name\", \"Ticket\", \"Cabin\", \"PassengerId\"], axis=1, inplace=True)\n",
        "\n",
        "    # Sexの01化とEmbarkedのダミー化 \n",
        "    df[\"Sex\"] = df[\"Sex\"].replace({\"male\": 0, \"female\": 1})\n",
        "    df = pd.get_dummies(df)\n",
        "\n",
        "    return df"
      ],
      "metadata": {
        "id": "58vaFCp9YBvI"
      },
      "execution_count": 4,
      "outputs": []
    },
    {
      "cell_type": "code",
      "execution_count": 5,
      "metadata": {
        "id": "Z4bZSwy8e7KN",
        "colab": {
          "base_uri": "https://localhost:8080/"
        },
        "outputId": "06025fd6-de79-4204-9dcd-35115f32da1a"
      },
      "outputs": [
        {
          "output_type": "stream",
          "name": "stdout",
          "text": [
            "[23:19:39] WARNING: ../src/learner.cc:767: \n",
            "Parameters: { \"n_estimetors\" } are not used.\n",
            "\n",
            "[LightGBM] [Warning] Unknown parameter: colsample_bylevel\n",
            "[LightGBM] [Warning] Unknown parameter: n_estimetors\n",
            "[23:19:39] WARNING: ../src/learner.cc:767: \n",
            "Parameters: { \"n_estimetors\" } are not used.\n",
            "\n",
            "[LightGBM] [Warning] Unknown parameter: colsample_bylevel\n",
            "[LightGBM] [Warning] Unknown parameter: n_estimetors\n",
            "[23:19:39] WARNING: ../src/learner.cc:767: \n",
            "Parameters: { \"n_estimetors\" } are not used.\n",
            "\n",
            "[LightGBM] [Warning] Unknown parameter: colsample_bylevel\n",
            "[LightGBM] [Warning] Unknown parameter: n_estimetors\n",
            "0.8204264870931537\n"
          ]
        }
      ],
      "source": [
        "\n",
        "# main\n",
        "df_train = pd.read_csv(\"drive/MyDrive/train.csv\")\n",
        "train_y = df_train[\"Survived\"]\n",
        "train_x = df_train.drop(\"Survived\", axis=1)\n",
        "\n",
        "train_x = preprocess_df(train_x)\n",
        "\n",
        "accuracies = []\n",
        "\n",
        "cv = StratifiedKFold(n_splits=3, shuffle=True, random_state=0)\n",
        "for train_idx, test_idx in cv.split(train_x, train_y):\n",
        "  trn_x = train_x.iloc[train_idx, :]\n",
        "  val_x = train_x.iloc[test_idx, :]\n",
        "\n",
        "  trn_y = train_y.iloc[train_idx]\n",
        "  val_y = train_y.iloc[test_idx]\n",
        "\n",
        "  clf_xgb = xgb.XGBClassifier(**params)\n",
        "  clf_lgb = lgb.LGBMClassifier(**params)\n",
        "\n",
        "  clf_xgb.fit(trn_x, trn_y)\n",
        "  clf_lgb.fit(trn_x, trn_y)\n",
        "\n",
        "  # 平均値化するためにprobabilityを出す\n",
        "  pred_proba_y_xgb = clf_xgb.predict_proba(val_x)[:, 1]\n",
        "  pred_proba_y_lgb = clf_lgb.predict_proba(val_x)[:, 1]\n",
        "\n",
        "  # probabilityの平均値が0.50を超えていれば1, そうでな場合0\n",
        "  pred_proba_y = pd.DataFrame({\"xgb\": pred_proba_y_xgb, \"lgb\": pred_proba_y_lgb}).mean(axis=1)\n",
        "  pred_y = [1 if proba > 0.50 else 0 for proba in pred_proba_y]\n",
        "  accuracies.append(accuracy_score(val_y, pred_y))\n",
        "\n",
        "print(np.mean(accuracies))"
      ]
    }
  ]
}